{
 "cells": [
  {
   "cell_type": "code",
   "execution_count": 2,
   "metadata": {},
   "outputs": [
    {
     "name": "stderr",
     "output_type": "stream",
     "text": [
      "/home/ngoctuhan/Documents/CallingPhoneSystemLLM/venv/lib/python3.10/site-packages/tqdm/auto.py:21: TqdmWarning: IProgress not found. Please update jupyter and ipywidgets. See https://ipywidgets.readthedocs.io/en/stable/user_install.html\n",
      "  from .autonotebook import tqdm as notebook_tqdm\n"
     ]
    }
   ],
   "source": [
    "from graph_extraction import GraphRAGExtractor, parse_fn\n",
    "from graph_store import GraphRAGStore\n",
    "\n",
    "from llama_index.llms.gemini import Gemini\n",
    "from graph_extraction import KG_TRIPLET_EXTRACT_TMPL \n",
    "from llama_index.core import PropertyGraphIndex\n",
    "from llama_index.core.schema import TextNode\n",
    "llm = Gemini(\n",
    "    model=\"models/gemini-2.0-flash\",\n",
    "    api_key=\"\",  # uses GOOGLE_API_KEY env var by default\n",
    ")\n",
    "\n",
    "kg_extractor = GraphRAGExtractor(\n",
    "    llm=llm,\n",
    "    extract_prompt=KG_TRIPLET_EXTRACT_TMPL,\n",
    "    max_paths_per_chunk=10,\n",
    "    parse_fn=parse_fn,\n",
    ")\n"
   ]
  },
  {
   "cell_type": "code",
   "execution_count": 3,
   "metadata": {},
   "outputs": [],
   "source": [
    "# Note: used to be `Neo4jPGStore`\n",
    "graph_store = GraphRAGStore(\n",
    "    llm,\n",
    "    username=\"neo4j\", \n",
    "    password=\"password\", \n",
    "    url=\"neo4j://127.0.0.1:7687\"\n",
    ")"
   ]
  },
  {
   "cell_type": "code",
   "execution_count": 5,
   "metadata": {},
   "outputs": [],
   "source": [
    "from llama_index.embeddings.openai import OpenAIEmbedding\n",
    "embedding = OpenAIEmbedding(api_key=\"\")"
   ]
  },
  {
   "cell_type": "code",
   "execution_count": null,
   "metadata": {},
   "outputs": [
    {
     "name": "stderr",
     "output_type": "stream",
     "text": [
      "Extracting paths from text: 100%|██████████| 1/1 [00:05<00:00,  5.40s/it]\n",
      "Generating embeddings: 100%|██████████| 1/1 [00:00<00:00,  1.19it/s]\n",
      "Generating embeddings: 100%|██████████| 1/1 [00:01<00:00,  1.25s/it]\n"
     ]
    }
   ],
   "source": [
    "# text_node1 = TextNode(text=\"Nguyễn Trãi (chữ Hán: 阮廌; 1380 – 19 tháng 9 năm 1442), hiệu là Ức Trai (抑齋), là một nhà chính trị, nhà văn, nhà văn hóa lớn của dân tộc Việt Nam. Ông đã tham gia tích cực cuộc Khởi nghĩa Lam Sơn do Lê Lợi lãnh đạo chống lại sự xâm lược của nhà Minh (Trung Quốc) với Đại Việt. Khi cuộc khởi nghĩa thành công vào năm 1428, Nguyễn Trãi trở thành một trong những khai quốc công thần của triều đại quân chủ nhà Hậu Lê trong Lịch sử Việt Nam.[2]\")\n",
    "# text_node2 = TextNode(text=\"\"\"Nguyễn Du (chữ Hán: 阮攸; 3 tháng 1 năm 1766 – 16 tháng 9 năm 1820[1]) tên tự là Tố Như (素如), hiệu là Thanh Hiên (清軒), biệt hiệu là Hồng Sơn lạp hộ (鴻山獵戶), Nam Hải điếu đồ (南海釣屠), là một nhà thơ, nhà văn hóa lớn thời Lê mạt Nguyễn sơ ở Việt Nam. Ông được người Việt kính trọng tôn xưng là \"Đại thi hào dân tộc\"[2] và được UNESCO vinh danh là \"Danh nhân văn hóa thế giới\".[3]\"\"\")\n",
    "# text_node3 = TextNode(text=\"\"\"gRPC (acronym for gRPC Remote Procedure Calls[2]) is a cross-platform high-performance remote procedure call (RPC) framework. gRPC was initially created by Google, but is open source and is used in many organizations. Use cases range from microservices to the \"last mile\" of computing (mobile, web, and Internet of Things). gRPC uses HTTP/2 for transport, Protocol Buffers as the interface description language, and provides features such as authentication, bidirectional streaming and flow control, blocking or nonblocking bindings, and cancellation and timeouts. It generates cross-platform client and server bindings for many languages. Most common usage scenarios include connecting services in a microservices style architecture, or connecting mobile device clients to backend services.[3]\"\"\")\n",
    "# text_node4 = TextNode(text=\"\"\"Facebook is a social media and social networking service owned by the American technology conglomerate Meta. Created in 2004 by Mark Zuckerberg with four other Harvard College students and roommates, Eduardo Saverin, Andrew McCollum, Dustin Moskovitz, and Chris Hughes, its name derives from the face book directories often given to American university students. Membership was initially limited to Harvard students, gradually expanding to other North American universities. Since 2006, Facebook allows everyone to register from 13 years old, except in the case of a handful of nations, where the age requirement is 14 years.[6] As of December 2023, Facebook claimed almost 3.07 billion monthly active users worldwide.[7] As of November 2024, Facebook ranked as the third-most-visited website in the world, with 23% of its traffic coming from the United States.[8] It was the most downloaded mobile app of the 2010s.[9]\"\"\")\n",
    "# nodes = [text_node1, text_node2, text_node3, text_node4]\n",
    "\n",
    "nodes = [TextNode(text=\"\"\"Nguyễn Trãi sinh năm 1380, mất năm 1442, hiệu là Ức Trai, quê ở làng Chi Ngại (Chi Linh, Hải Dương) sau rời về Nhị Khê (Thường Tín, Hà Tây, nay thuộc Hà Nội)\n",
    "\"\"\")]\n",
    "\n",
    "index = PropertyGraphIndex(\n",
    "    nodes=nodes,\n",
    "    llm=llm,\n",
    "    kg_extractors=[kg_extractor],\n",
    "    property_graph_store=graph_store,\n",
    "    embed_model=embedding,\n",
    "    show_progress=True,\n",
    ")"
   ]
  },
  {
   "cell_type": "code",
   "execution_count": 6,
   "metadata": {},
   "outputs": [],
   "source": [
    "index_restore  = PropertyGraphIndex.from_existing(llm=llm,\n",
    "    kg_extractors=[kg_extractor],\n",
    "    property_graph_store=graph_store,\n",
    "    embed_model=embedding,)"
   ]
  },
  {
   "cell_type": "code",
   "execution_count": 7,
   "metadata": {},
   "outputs": [
    {
     "data": {
      "text/plain": [
       "['Nhị Khê',\n",
       " 'Nhà Minh',\n",
       " 'Nguyễn Du',\n",
       " 'Hồng Sơn lạp hộ',\n",
       " '1442',\n",
       " 'Nam Hải điếu đồ',\n",
       " 'UNESCO',\n",
       " 'Chi Linh',\n",
       " 'Khởi Nghĩa Lam Sơn',\n",
       " 'Chi Ngại',\n",
       " '1380',\n",
       " 'Nhà Trần',\n",
       " 'Trung Quốc',\n",
       " 'Nguyễn Trãi',\n",
       " 'Nhà Hậu Lê',\n",
       " 'Ức Trai',\n",
       " 'Việt Nam',\n",
       " 'Thường Tín',\n",
       " 'Hồ Quý Ly',\n",
       " 'Đại thi hào dân tộc',\n",
       " 'Tố Như',\n",
       " 'Danh nhân văn hóa thế giới',\n",
       " 'Thanh Hiên',\n",
       " 'Nguyễn Phi Khanh']"
      ]
     },
     "execution_count": 7,
     "metadata": {},
     "output_type": "execute_result"
    }
   ],
   "source": [
    "import re \n",
    "def get_entities(query_str, similarity_top_k):\n",
    "        nodes_retrieved = index_restore.as_retriever(\n",
    "            similarity_top_k=similarity_top_k\n",
    "        ).retrieve(query_str)\n",
    "\n",
    "        enitites = set()\n",
    "        pattern = (\n",
    "            r\"^(\\w+(?:\\s+\\w+)*)\\s*->\\s*([a-zA-Z\\s]+?)\\s*->\\s*(\\w+(?:\\s+\\w+)*)$\"\n",
    "        )\n",
    "\n",
    "        for node in nodes_retrieved:\n",
    "            matches = re.findall(\n",
    "                pattern, node.text, re.MULTILINE | re.IGNORECASE\n",
    "            )\n",
    "\n",
    "            for match in matches:\n",
    "                subject = match[0]\n",
    "                obj = match[2]\n",
    "                enitites.add(subject)\n",
    "                enitites.add(obj)\n",
    "\n",
    "        return list(enitites)\n",
    "\n",
    "get_entities(\"Nguyễn Trãi mất năm nào?\", 10)"
   ]
  },
  {
   "cell_type": "code",
   "execution_count": 16,
   "metadata": {},
   "outputs": [],
   "source": [
    "index_restore.property_graph_store.build_communities()"
   ]
  },
  {
   "cell_type": "code",
   "execution_count": 17,
   "metadata": {},
   "outputs": [
    {
     "data": {
      "text/plain": [
       "{0: 'Nguyễn Trãi, also known as Ức Trai, was born in either 1380 or Chi Ngại, which is located in Chi Linh (Hải Dương). He moved to Nhị Khê and died in 1442. He was the son of Nguyễn Phi Khanh and son-in-law of Trần Nguyên Đán. Nguyễn Trãi was a key figure in Vietnamese history, actively participating in the Lam Sơn Uprising and becoming a founding meritorious official of the Later Lê dynasty.',\n",
       " 1: \"Here's a summary of the relationships:\\n\\n*   **Nguyễn Phi Khanh and Nguyễn Trãi:** Nguyễn Phi Khanh is the father of Nguyễn Trãi.\\n*   **Nguyễn Phi Khanh and Nhà Minh/Trung Quốc:** Nguyễn Phi Khanh surrendered to the Nhà Minh and subsequently went to Trung Quốc.\\n*   **Nguyễn Trãi and Khởi Nghĩa Lam Sơn:** Nguyễn Trãi actively participated in the Lam Sơn Uprising.\\n*   **Khởi Nghĩa Lam Sơn and Lê Lợi:** The Lam Sơn Uprising was led by Lê Lợi.\\n*   **Khởi Nghĩa Lam Sơn and Nhà Minh:** The Lam Sơn Uprising was against the Ming dynasty's invasion.\\n*   **Nhà Minh and Đại Việt:** The Ming dynasty invaded Đại Việt.\",\n",
       " 2: \"Nguyễn Du, a Vietnamese poet, is known by several names including Tố Như (self-given name), Thanh Hiên (pen name), Nam Hải điếu đồ and Hồng Sơn lạp hộ (aliases). He is recognized with the titles 'Đại thi hào dân tộc' and 'Danh nhân văn hóa thế giới', the latter bestowed upon him by UNESCO.\",\n",
       " 3: '**gRPC:**\\n\\n*   **Origin:** Initially created by Google.\\n*   **Technology Stack:** Utilizes Protocol Buffers as its interface description language and HTTP/2 for transport.\\n*   **Application:** Connects services in microservices architectures and is used in Internet of Things (IoT) applications.',\n",
       " 4: \"**Facebook's Creation and Ownership:** Facebook was created by Mark Zuckerberg and co-founded by Eduardo Saverin, Dustin Moskovitz, Andrew McCollum, and Chris Hughes. It is currently owned by Meta.\\n\\n**Mark Zuckerberg's Education:** Mark Zuckerberg was a student at Harvard College.\",\n",
       " 5: \"Here's a summary of the relationships described:\\n\\n*   **Nature and the Physical World/Universe:** Nature, in its broadest sense, is synonymous with the physical world or the universe. Natural phenomena occur within the physical world.\\n*   **Nature and Life:** Nature encompasses all life.\\n*   **Nature and Humanity:** Humans are an integral part of nature.\\n*   **Nature and Science:** Science is the study of nature.\",\n",
       " 6: 'This knowledge graph describes the transition between the Trần and Hồ dynasties in Vietnamese history. Hồ Quý Ly played a pivotal role, both overthrowing the Trần dynasty and subsequently establishing the Hồ dynasty. The Trần dynasty was the predecessor to the Hồ dynasty, with Hồ Quý Ly being the central figure in this dynastic shift.',\n",
       " 7: '*   **Nguyễn Trãi and Nhị Khê:** Nguyễn Trãi once moved to Nhị Khê.\\n*   **Nhị Khê and Thường Tín:** Nhị Khê is located within Thường Tín.\\n*   **Thường Tín and Hà Tây:** Thường Tín is located within Hà Tây.\\n*   **Hà Tây and Hà Nội:** Hà Tây is now part of Hà Nội.',\n",
       " 8: 'Nguyễn Trãi was born in 1380 in Chi Ngại, later moving to Nhị Khê, and died in 1442. He was also known by the alias Ức Trai. He was the son-in-law of Trần Nguyên Đán and the son of Nguyễn Phi Khanh. Nguyễn Trãi was a key figure in Vietnamese history, actively participating in the Lam Sơn Uprising and becoming a founding meritorious official of the Later Lê dynasty.',\n",
       " 9: 'This knowledge graph describes the location of places and the birth of a historical figure.\\n\\n*   **Nguyễn Trãi & Chi Ngại:** Nguyễn Trãi was born in Chi Ngại.\\n*   **Chi Ngại & Chi Linh:** Chi Ngại is located within Chi Linh.\\n*   **Chi Linh & Hải Dương:** Chi Linh is located within Hải Dương.',\n",
       " 10: 'Summary of Relationships:\\n\\n*   **Nguyễn Phi Khanh and Nguyễn Trãi:** Nguyễn Phi Khanh is the father of Nguyễn Trãi.\\n*   **Nguyễn Phi Khanh and Nhà Minh:** Nguyễn Phi Khanh surrendered to the Nhà Minh.\\n*   **Nguyễn Phi Khanh and Trung Quốc:** Nguyễn Phi Khanh went to Trung Quốc after surrendering.',\n",
       " 11: 'The Lam Sơn Uprising involved several key figures and events: Nguyễn Trãi actively participated, Lê Lợi led the uprising, and it was primarily a resistance movement against the Ming dynasty.',\n",
       " 12: 'The Ming dynasty had a significant and conflict-ridden relationship with Đại Việt. They invaded Đại Việt, leading to the Lam Sơn Uprising which was specifically against the Ming invasion. Nguyễn Phi Khanh ultimately surrendered to the Ming dynasty.',\n",
       " 13: \"**Summary of Facebook's Relationships:**\\n\\n*   **Founders:** Facebook was co-founded by Eduardo Saverin, Dustin Moskovitz, Andrew McCollum, and Chris Hughes, and created by Mark Zuckerberg.\\n*   **Ownership:** Facebook is owned by Meta.\",\n",
       " 14: '**Summary of Relationships:**\\n\\n*   **Mark Zuckerberg and Facebook:** Mark Zuckerberg is the creator of Facebook.\\n*   **Mark Zuckerberg and Harvard College:** Mark Zuckerberg was a student at Harvard College.'}"
      ]
     },
     "execution_count": 17,
     "metadata": {},
     "output_type": "execute_result"
    }
   ],
   "source": [
    "index_restore.property_graph_store.get_community_summaries()"
   ]
  },
  {
   "cell_type": "code",
   "execution_count": 18,
   "metadata": {},
   "outputs": [
    {
     "data": {
      "text/plain": [
       "[0,\n",
       " 8,\n",
       " 1,\n",
       " 10,\n",
       " 1,\n",
       " 10,\n",
       " 0,\n",
       " 8,\n",
       " 0,\n",
       " 8,\n",
       " 7,\n",
       " 0,\n",
       " 9,\n",
       " 0,\n",
       " 9,\n",
       " 1,\n",
       " 12,\n",
       " 1,\n",
       " 11,\n",
       " 0,\n",
       " 8,\n",
       " 6,\n",
       " 0,\n",
       " 8,\n",
       " 6,\n",
       " 6,\n",
       " 7]"
      ]
     },
     "execution_count": 18,
     "metadata": {},
     "output_type": "execute_result"
    }
   ],
   "source": [
    "entities = get_entities(\"Nguyễn Trãi là ai?\", 10)\n",
    "community_ids = []\n",
    "\n",
    "for entity in entities:\n",
    "    if entity in graph_store.entity_info:\n",
    "        community_ids.extend(graph_store.entity_info[entity])\n",
    "community_ids\n",
    "# return list(set(community_ids))"
   ]
  },
  {
   "cell_type": "code",
   "execution_count": 19,
   "metadata": {},
   "outputs": [
    {
     "data": {
      "text/plain": [
       "['Nguyễn Trãi, also known as Ức Trai, was born in either 1380 or Chi Ngại, which is located in Chi Linh (Hải Dương). He moved to Nhị Khê and died in 1442. He was the son of Nguyễn Phi Khanh and son-in-law of Trần Nguyên Đán. Nguyễn Trãi was a key figure in Vietnamese history, actively participating in the Lam Sơn Uprising and becoming a founding meritorious official of the Later Lê dynasty.',\n",
       " \"Here's a summary of the relationships:\\n\\n*   **Nguyễn Phi Khanh and Nguyễn Trãi:** Nguyễn Phi Khanh is the father of Nguyễn Trãi.\\n*   **Nguyễn Phi Khanh and Nhà Minh/Trung Quốc:** Nguyễn Phi Khanh surrendered to the Nhà Minh and subsequently went to Trung Quốc.\\n*   **Nguyễn Trãi and Khởi Nghĩa Lam Sơn:** Nguyễn Trãi actively participated in the Lam Sơn Uprising.\\n*   **Khởi Nghĩa Lam Sơn and Lê Lợi:** The Lam Sơn Uprising was led by Lê Lợi.\\n*   **Khởi Nghĩa Lam Sơn and Nhà Minh:** The Lam Sơn Uprising was against the Ming dynasty's invasion.\\n*   **Nhà Minh and Đại Việt:** The Ming dynasty invaded Đại Việt.\",\n",
       " 'This knowledge graph describes the transition between the Trần and Hồ dynasties in Vietnamese history. Hồ Quý Ly played a pivotal role, both overthrowing the Trần dynasty and subsequently establishing the Hồ dynasty. The Trần dynasty was the predecessor to the Hồ dynasty, with Hồ Quý Ly being the central figure in this dynastic shift.',\n",
       " '*   **Nguyễn Trãi and Nhị Khê:** Nguyễn Trãi once moved to Nhị Khê.\\n*   **Nhị Khê and Thường Tín:** Nhị Khê is located within Thường Tín.\\n*   **Thường Tín and Hà Tây:** Thường Tín is located within Hà Tây.\\n*   **Hà Tây and Hà Nội:** Hà Tây is now part of Hà Nội.',\n",
       " 'Nguyễn Trãi was born in 1380 in Chi Ngại, later moving to Nhị Khê, and died in 1442. He was also known by the alias Ức Trai. He was the son-in-law of Trần Nguyên Đán and the son of Nguyễn Phi Khanh. Nguyễn Trãi was a key figure in Vietnamese history, actively participating in the Lam Sơn Uprising and becoming a founding meritorious official of the Later Lê dynasty.',\n",
       " 'This knowledge graph describes the location of places and the birth of a historical figure.\\n\\n*   **Nguyễn Trãi & Chi Ngại:** Nguyễn Trãi was born in Chi Ngại.\\n*   **Chi Ngại & Chi Linh:** Chi Ngại is located within Chi Linh.\\n*   **Chi Linh & Hải Dương:** Chi Linh is located within Hải Dương.',\n",
       " 'Summary of Relationships:\\n\\n*   **Nguyễn Phi Khanh and Nguyễn Trãi:** Nguyễn Phi Khanh is the father of Nguyễn Trãi.\\n*   **Nguyễn Phi Khanh and Nhà Minh:** Nguyễn Phi Khanh surrendered to the Nhà Minh.\\n*   **Nguyễn Phi Khanh and Trung Quốc:** Nguyễn Phi Khanh went to Trung Quốc after surrendering.',\n",
       " 'The Lam Sơn Uprising involved several key figures and events: Nguyễn Trãi actively participated, Lê Lợi led the uprising, and it was primarily a resistance movement against the Ming dynasty.',\n",
       " 'The Ming dynasty had a significant and conflict-ridden relationship with Đại Việt. They invaded Đại Việt, leading to the Lam Sơn Uprising which was specifically against the Ming invasion. Nguyễn Phi Khanh ultimately surrendered to the Ming dynasty.']"
      ]
     },
     "execution_count": 19,
     "metadata": {},
     "output_type": "execute_result"
    }
   ],
   "source": [
    "community_summaries = index_restore.property_graph_store.get_community_summaries()\n",
    "community_answers = [community_summary \n",
    "           for id, community_summary in community_summaries.items() if id in list(set(community_ids))\n",
    "        ]\n",
    "community_answers"
   ]
  },
  {
   "cell_type": "code",
   "execution_count": 21,
   "metadata": {},
   "outputs": [
    {
     "data": {
      "text/plain": [
       "CompletionResponse(text='Nguyễn Trãi (1380-1442) là một nhà chính trị, nhà quân sự, nhà ngoại giao, nhà văn, nhà thơ Việt Nam thời Lê sơ. Ông là công thần khai quốc nhà Lê, có công lớn trong cuộc khởi nghĩa Lam Sơn chống quân Minh xâm lược. Nguyễn Trãi được công nhận là một trong những anh hùng dân tộc vĩ đại nhất và là một nhà văn hóa lớn của Việt Nam.\\n', additional_kwargs={}, raw={'content': {'parts': [{'text': 'Nguyễn Trãi (1380-1442) là một nhà chính trị, nhà quân sự, nhà ngoại giao, nhà văn, nhà thơ Việt Nam thời Lê sơ. Ông là công thần khai quốc nhà Lê, có công lớn trong cuộc khởi nghĩa Lam Sơn chống quân Minh xâm lược. Nguyễn Trãi được công nhận là một trong những anh hùng dân tộc vĩ đại nhất và là một nhà văn hóa lớn của Việt Nam.\\n'}], 'role': 'model'}, 'finish_reason': 1, 'avg_logprobs': -0.049460248744234124, 'safety_ratings': [], 'token_count': 0, 'grounding_attributions': [], 'block_reason': 0, 'usage_metadata': {'prompt_token_count': 33, 'candidates_token_count': 94, 'total_token_count': 127, 'cached_content_token_count': 0}}, logprobs=None, delta=None)"
      ]
     },
     "execution_count": 21,
     "metadata": {},
     "output_type": "execute_result"
    }
   ],
   "source": [
    "prompt = \"\"\"\n",
    "You are a helpful assistant that can answer questions base on information from the community.\n",
    "\n",
    "Community:\n",
    "{community_answers}\n",
    "\n",
    "Question:\n",
    "{\"Nguyễn Trãi là ai?\"}\n",
    "\n",
    "Answer:\n",
    "\"\"\"\n",
    "\n",
    "llm.complete(prompt)\n"
   ]
  },
  {
   "cell_type": "code",
   "execution_count": null,
   "metadata": {},
   "outputs": [],
   "source": [
    "llm.complete(prompt)\n"
   ]
  }
 ],
 "metadata": {
  "kernelspec": {
   "display_name": "venv",
   "language": "python",
   "name": "python3"
  },
  "language_info": {
   "codemirror_mode": {
    "name": "ipython",
    "version": 3
   },
   "file_extension": ".py",
   "mimetype": "text/x-python",
   "name": "python",
   "nbconvert_exporter": "python",
   "pygments_lexer": "ipython3",
   "version": "3.10.12"
  }
 },
 "nbformat": 4,
 "nbformat_minor": 2
}
